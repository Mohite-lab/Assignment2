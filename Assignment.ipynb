{
 "cells": [
  {
   "cell_type": "code",
   "execution_count": 1,
   "id": "73fe21c3-b1e7-4770-b88f-1f7f424165f0",
   "metadata": {},
   "outputs": [],
   "source": [
    "##this is a my first time to learn code."
   ]
  },
  {
   "cell_type": "code",
   "execution_count": 2,
   "id": "8a774a7c-0531-4fd7-8324-f2686d516f4f",
   "metadata": {},
   "outputs": [],
   "source": [
    "## I don't have any experience about IT and coding"
   ]
  },
  {
   "cell_type": "code",
   "execution_count": 4,
   "id": "ee4e41df-5218-475c-a969-970651252b28",
   "metadata": {},
   "outputs": [],
   "source": [
    "# #This is my first for programming\n",
    "# i have learn variable declaration, data type, string, intere, boolean, complex number\n",
    "# i have seen some example of string and indexing\n",
    "# i have gone through some of the string inbuilt function."
   ]
  },
  {
   "cell_type": "code",
   "execution_count": 5,
   "id": "24d36ac9-2da5-4442-8b77-03721758536e",
   "metadata": {},
   "outputs": [
    {
     "data": {
      "text/plain": [
       "'This is my first for programming\\ni have learn variable declaration, data type, string, intere, boolean, complex number\\ni have seen some example of string and indexing\\ni have gone through some of the string inbuilt function'"
      ]
     },
     "execution_count": 5,
     "metadata": {},
     "output_type": "execute_result"
    }
   ],
   "source": [
    "\"\"\"This is my first for programming\n",
    "i have learn variable declaration, data type, string, intere, boolean, complex number\n",
    "i have seen some example of string and indexing\n",
    "i have gone through some of the string inbuilt function\"\"\""
   ]
  },
  {
   "cell_type": "code",
   "execution_count": 6,
   "id": "c681f2f3-ee29-4943-9a88-997165bdc131",
   "metadata": {},
   "outputs": [],
   "source": [
    "a = 6"
   ]
  },
  {
   "cell_type": "code",
   "execution_count": 7,
   "id": "1b87a60f-ea6e-42b6-8550-316c500a171e",
   "metadata": {},
   "outputs": [
    {
     "data": {
      "text/plain": [
       "6"
      ]
     },
     "execution_count": 7,
     "metadata": {},
     "output_type": "execute_result"
    }
   ],
   "source": [
    "a"
   ]
  },
  {
   "cell_type": "code",
   "execution_count": 8,
   "id": "9f9fce8e-260d-48e0-811c-df037b08d380",
   "metadata": {},
   "outputs": [
    {
     "data": {
      "text/plain": [
       "int"
      ]
     },
     "execution_count": 8,
     "metadata": {},
     "output_type": "execute_result"
    }
   ],
   "source": [
    "type(a)"
   ]
  },
  {
   "cell_type": "code",
   "execution_count": 9,
   "id": "048493fb-c107-444a-afc7-93dc69a05630",
   "metadata": {},
   "outputs": [],
   "source": [
    "c = 8+2j"
   ]
  },
  {
   "cell_type": "code",
   "execution_count": 10,
   "id": "07f8761f-8c07-4a07-ac9d-ae41f873cf62",
   "metadata": {},
   "outputs": [
    {
     "data": {
      "text/plain": [
       "complex"
      ]
     },
     "execution_count": 10,
     "metadata": {},
     "output_type": "execute_result"
    }
   ],
   "source": [
    "type(c)"
   ]
  },
  {
   "cell_type": "code",
   "execution_count": 11,
   "id": "654b0478-e451-4e2d-bc09-1650a08ece38",
   "metadata": {},
   "outputs": [
    {
     "data": {
      "text/plain": [
       "2.0"
      ]
     },
     "execution_count": 11,
     "metadata": {},
     "output_type": "execute_result"
    }
   ],
   "source": [
    "c.imag"
   ]
  },
  {
   "cell_type": "code",
   "execution_count": 12,
   "id": "70442f5e-8701-491e-9c2d-270d5d9f0b02",
   "metadata": {},
   "outputs": [
    {
     "data": {
      "text/plain": [
       "8.0"
      ]
     },
     "execution_count": 12,
     "metadata": {},
     "output_type": "execute_result"
    }
   ],
   "source": [
    "c.real"
   ]
  },
  {
   "cell_type": "code",
   "execution_count": 13,
   "id": "1e44eef0-2fd7-4916-8b4b-5de8b71f222c",
   "metadata": {},
   "outputs": [],
   "source": [
    "m = 3256.52"
   ]
  },
  {
   "cell_type": "code",
   "execution_count": 14,
   "id": "668e00fc-f9fa-46c2-aac1-86bf63d80f77",
   "metadata": {},
   "outputs": [
    {
     "data": {
      "text/plain": [
       "3256.52"
      ]
     },
     "execution_count": 14,
     "metadata": {},
     "output_type": "execute_result"
    }
   ],
   "source": [
    "m"
   ]
  },
  {
   "cell_type": "code",
   "execution_count": 15,
   "id": "d394b3d8-7e2e-42e3-b566-068088bf8be0",
   "metadata": {},
   "outputs": [
    {
     "data": {
      "text/plain": [
       "float"
      ]
     },
     "execution_count": 15,
     "metadata": {},
     "output_type": "execute_result"
    }
   ],
   "source": [
    "type(m)"
   ]
  },
  {
   "cell_type": "code",
   "execution_count": 20,
   "id": "84879e15-0994-4f5f-812f-06fcec77c701",
   "metadata": {},
   "outputs": [],
   "source": [
    "l = \"I started learning code since past tow week\""
   ]
  },
  {
   "cell_type": "code",
   "execution_count": 21,
   "id": "e86f6d21-8eef-49bf-b99b-8939d7ec998a",
   "metadata": {},
   "outputs": [
    {
     "data": {
      "text/plain": [
       "'I STARTED LEARNING CODE SINCE PAST TOW WEEK'"
      ]
     },
     "execution_count": 21,
     "metadata": {},
     "output_type": "execute_result"
    }
   ],
   "source": [
    "l.upper()"
   ]
  },
  {
   "cell_type": "code",
   "execution_count": 22,
   "id": "2b456f80-1e41-4dba-bb25-6def6bb0ae82",
   "metadata": {},
   "outputs": [],
   "source": [
    "l1 = 'I STARTED LEARNING CODE SINCE PAST TOW WEEK'"
   ]
  },
  {
   "cell_type": "code",
   "execution_count": 23,
   "id": "6e79c44c-c7b0-4925-9f2f-15bafaaf51c1",
   "metadata": {},
   "outputs": [
    {
     "data": {
      "text/plain": [
       "'i started learning code since past tow week'"
      ]
     },
     "execution_count": 23,
     "metadata": {},
     "output_type": "execute_result"
    }
   ],
   "source": [
    "l1.lower()"
   ]
  },
  {
   "cell_type": "code",
   "execution_count": 24,
   "id": "dff4fd34-92a6-4e03-8668-7f5ed3061212",
   "metadata": {},
   "outputs": [
    {
     "data": {
      "text/plain": [
       "'I Started Learning Code Since Past Tow Week'"
      ]
     },
     "execution_count": 24,
     "metadata": {},
     "output_type": "execute_result"
    }
   ],
   "source": [
    "l1.title()"
   ]
  },
  {
   "cell_type": "code",
   "execution_count": 25,
   "id": "9551b49b-990a-40d9-9848-31a09cea05c4",
   "metadata": {},
   "outputs": [],
   "source": [
    "l2 = [True, False, \"pwskills\", 6.03, 6+4j] "
   ]
  },
  {
   "cell_type": "code",
   "execution_count": 27,
   "id": "9834bb2d-376f-4929-83af-4bdaf34f4a3d",
   "metadata": {},
   "outputs": [
    {
     "data": {
      "text/plain": [
       "True"
      ]
     },
     "execution_count": 27,
     "metadata": {},
     "output_type": "execute_result"
    }
   ],
   "source": [
    "l2[0]"
   ]
  },
  {
   "cell_type": "code",
   "execution_count": 28,
   "id": "202c3d02-36b2-4960-a3de-760fc5d9c1c1",
   "metadata": {},
   "outputs": [
    {
     "data": {
      "text/plain": [
       "'True'"
      ]
     },
     "execution_count": 28,
     "metadata": {},
     "output_type": "execute_result"
    }
   ],
   "source": [
    "str(l2[0])"
   ]
  },
  {
   "cell_type": "code",
   "execution_count": 31,
   "id": "c39cd9f2-98da-4720-9b6f-872031c3e160",
   "metadata": {},
   "outputs": [
    {
     "data": {
      "text/plain": [
       "'(6+4j)'"
      ]
     },
     "execution_count": 31,
     "metadata": {},
     "output_type": "execute_result"
    }
   ],
   "source": [
    "str(l2[4])"
   ]
  },
  {
   "cell_type": "code",
   "execution_count": 32,
   "id": "19dbdf68-5bcb-4dfb-a89f-f6efbd9ac86d",
   "metadata": {},
   "outputs": [
    {
     "data": {
      "text/plain": [
       "6"
      ]
     },
     "execution_count": 32,
     "metadata": {},
     "output_type": "execute_result"
    }
   ],
   "source": [
    "int(l2[3])"
   ]
  },
  {
   "cell_type": "code",
   "execution_count": 2,
   "id": "c1e82a66-c4af-44e2-bc6f-55af6e3e9ef9",
   "metadata": {},
   "outputs": [
    {
     "name": "stdout",
     "output_type": "stream",
     "text": [
      "today claimate is mixed\n"
     ]
    }
   ],
   "source": [
    "print(\"today claimate is mixed\")"
   ]
  },
  {
   "cell_type": "code",
   "execution_count": 9,
   "id": "e0cf5dd1-3b39-4e4e-a1f7-88669578f7b0",
   "metadata": {},
   "outputs": [],
   "source": [
    "l = [1,2,3,4,5]"
   ]
  },
  {
   "cell_type": "code",
   "execution_count": 10,
   "id": "24659d45-3c92-4e8f-b865-10014be6c530",
   "metadata": {},
   "outputs": [
    {
     "data": {
      "text/plain": [
       "2"
      ]
     },
     "execution_count": 10,
     "metadata": {},
     "output_type": "execute_result"
    }
   ],
   "source": [
    "l[1]"
   ]
  },
  {
   "cell_type": "code",
   "execution_count": 11,
   "id": "f6a3efa3-0d32-4825-94e7-665bad868e3b",
   "metadata": {},
   "outputs": [
    {
     "data": {
      "text/plain": [
       "3"
      ]
     },
     "execution_count": 11,
     "metadata": {},
     "output_type": "execute_result"
    }
   ],
   "source": [
    "l[2]"
   ]
  },
  {
   "cell_type": "code",
   "execution_count": 15,
   "id": "1eaa1b4b-45f1-4d00-811a-041dbdc68507",
   "metadata": {},
   "outputs": [
    {
     "data": {
      "text/plain": [
       "[2, 3]"
      ]
     },
     "execution_count": 15,
     "metadata": {},
     "output_type": "execute_result"
    }
   ],
   "source": [
    "l[1:3]"
   ]
  },
  {
   "cell_type": "code",
   "execution_count": 17,
   "id": "dc5ed6c4-be51-49da-a668-6389b184b102",
   "metadata": {},
   "outputs": [],
   "source": [
    "c = 58+9j"
   ]
  },
  {
   "cell_type": "code",
   "execution_count": 18,
   "id": "868fa50a-2d7b-4ba8-b8a3-9bb5dc5e1574",
   "metadata": {},
   "outputs": [
    {
     "data": {
      "text/plain": [
       "complex"
      ]
     },
     "execution_count": 18,
     "metadata": {},
     "output_type": "execute_result"
    }
   ],
   "source": [
    "type(c)"
   ]
  },
  {
   "cell_type": "code",
   "execution_count": 19,
   "id": "34f918bb-11ed-47c9-ae71-509b1089fa15",
   "metadata": {},
   "outputs": [
    {
     "data": {
      "text/plain": [
       "9.0"
      ]
     },
     "execution_count": 19,
     "metadata": {},
     "output_type": "execute_result"
    }
   ],
   "source": [
    "c.imag"
   ]
  },
  {
   "cell_type": "code",
   "execution_count": 20,
   "id": "1c69ba90-8e69-452b-be9a-62840e494091",
   "metadata": {},
   "outputs": [
    {
     "data": {
      "text/plain": [
       "58.0"
      ]
     },
     "execution_count": 20,
     "metadata": {},
     "output_type": "execute_result"
    }
   ],
   "source": [
    "c.real"
   ]
  },
  {
   "cell_type": "code",
   "execution_count": 22,
   "id": "1a1a315b-6959-496a-87e0-5f61f8f76ff8",
   "metadata": {},
   "outputs": [],
   "source": [
    "amol = 25"
   ]
  },
  {
   "cell_type": "code",
   "execution_count": 23,
   "id": "7958a16d-1b21-4395-a022-41f3ac418dbc",
   "metadata": {},
   "outputs": [
    {
     "data": {
      "text/plain": [
       "int"
      ]
     },
     "execution_count": 23,
     "metadata": {},
     "output_type": "execute_result"
    }
   ],
   "source": [
    "type(amol)"
   ]
  },
  {
   "cell_type": "code",
   "execution_count": 24,
   "id": "c644d863-e364-4231-b825-b1b6633c1a1a",
   "metadata": {},
   "outputs": [
    {
     "name": "stdout",
     "output_type": "stream",
     "text": [
      "25\n"
     ]
    }
   ],
   "source": [
    "print(amol)"
   ]
  },
  {
   "cell_type": "code",
   "execution_count": 25,
   "id": "3818938d-3691-4c9a-9079-8255b308453f",
   "metadata": {},
   "outputs": [],
   "source": [
    "sudh = 9.99"
   ]
  },
  {
   "cell_type": "code",
   "execution_count": 26,
   "id": "4849dadb-0c65-4c2d-81e8-e4c6eb4910d6",
   "metadata": {},
   "outputs": [
    {
     "data": {
      "text/plain": [
       "float"
      ]
     },
     "execution_count": 26,
     "metadata": {},
     "output_type": "execute_result"
    }
   ],
   "source": [
    "type(sudh)"
   ]
  },
  {
   "cell_type": "code",
   "execution_count": 31,
   "id": "443496d0-eda2-47a2-b093-5562a4062425",
   "metadata": {},
   "outputs": [],
   "source": [
    "m = \"amol ashok mohite\""
   ]
  },
  {
   "cell_type": "code",
   "execution_count": 32,
   "id": "a80b0f3e-852f-4daf-bca4-a7eb2fd26a8d",
   "metadata": {},
   "outputs": [
    {
     "name": "stdout",
     "output_type": "stream",
     "text": [
      "amol ashok mohite\n"
     ]
    }
   ],
   "source": [
    "print(m)"
   ]
  },
  {
   "cell_type": "code",
   "execution_count": 33,
   "id": "5ed636f2-1745-4d4a-8842-3dec5a049b4d",
   "metadata": {},
   "outputs": [],
   "source": [
    "a = \"Hello, Word!\""
   ]
  },
  {
   "cell_type": "code",
   "execution_count": 39,
   "id": "8ccd3439-96c4-447c-812e-8f0436f4fe8c",
   "metadata": {},
   "outputs": [
    {
     "data": {
      "text/plain": [
       "' Word'"
      ]
     },
     "execution_count": 39,
     "metadata": {},
     "output_type": "execute_result"
    }
   ],
   "source": [
    "a[6:11:1]"
   ]
  },
  {
   "cell_type": "code",
   "execution_count": 40,
   "id": "106d0cf2-5cdf-4dd2-a60d-f9b70877860f",
   "metadata": {},
   "outputs": [],
   "source": [
    "is_student = True"
   ]
  },
  {
   "cell_type": "code",
   "execution_count": null,
   "id": "1cfc1bcf-6066-4ff0-9a5a-75b2c5bd2f51",
   "metadata": {},
   "outputs": [],
   "source": []
  }
 ],
 "metadata": {
  "kernelspec": {
   "display_name": "Python 3 (ipykernel)",
   "language": "python",
   "name": "python3"
  },
  "language_info": {
   "codemirror_mode": {
    "name": "ipython",
    "version": 3
   },
   "file_extension": ".py",
   "mimetype": "text/x-python",
   "name": "python",
   "nbconvert_exporter": "python",
   "pygments_lexer": "ipython3",
   "version": "3.10.8"
  }
 },
 "nbformat": 4,
 "nbformat_minor": 5
}
